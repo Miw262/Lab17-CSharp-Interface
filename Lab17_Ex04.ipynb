{
 "cells": [
  {
   "cell_type": "markdown",
   "metadata": {},
   "source": [
    "# Lab 17 Exercise 4"
   ]
  },
  {
   "cell_type": "markdown",
   "metadata": {},
   "source": [
    "## Add another interface"
   ]
  },
  {
   "cell_type": "markdown",
   "metadata": {},
   "source": [
    "1.สร้าง console application project\n",
    "\n",
    "```cmd\n",
    "dotnet new console --name Lab17_Ex04\n",
    "```"
   ]
  },
  {
   "cell_type": "markdown",
   "metadata": {},
   "source": [
    "2.เปลี่ยน code ให้เป็นดังต่อไปนี้\n",
    "\n",
    "```csharp\n",
    "Animal [] animals = new Animal[3];\n",
    "animals[0] = new Dog();\n",
    "animals[1] = new Bird();\n",
    "animals[2] = new Fish();\n",
    "\n",
    "foreach (var animal in animals)\n",
    "{\n",
    "    animal.Move();\n",
    "}\n",
    "\n",
    "interface IMovable\n",
    "{\n",
    "    public void Move();\n",
    "}\n",
    "interface ISpeakable\n",
    "{\n",
    "    public void Speak();\n",
    "}\n",
    "\n",
    "abstract class Animal : IMovable, ISpeakable\n",
    "{\n",
    "    abstract public void Move();\n",
    "}\n",
    "class Dog : Animal\n",
    "{\n",
    "    public override void Move()\n",
    "    {\n",
    "        System.Console.WriteLine(\"Dog move by running on the ground\");\n",
    "    }\n",
    "}\n",
    "class Fish : Animal\n",
    "{\n",
    "    public override void Move()\n",
    "    {\n",
    "        System.Console.WriteLine(\"Fish move by swimming in the water\");\n",
    "    }\n",
    "}\n",
    "class Bird : Animal\n",
    "{\n",
    "    public override void Move()\n",
    "    {\n",
    "        System.Console.WriteLine(\"Bird move by flying in the air\");\n",
    "    }\n",
    "}\n",
    "\n",
    "```"
   ]
  },
  {
   "cell_type": "markdown",
   "metadata": {},
   "source": [
    "3.Build project โดยการใช้คำสั่ง\n",
    "\n",
    "```cmd\n",
    "dotnet build  Lab17_Ex04\n",
    "```\n",
    "\n",
    "ถ้ามีที่ผิดพลาดในโปรแกรม ให้แก้ไขให้ถูกต้อง"
   ]
  },
  {
   "cell_type": "markdown",
   "metadata": {},
   "source": [
    "แก้ไขโปรแกรม"
   ]
  },
  {
   "cell_type": "code",
   "execution_count": null,
   "metadata": {
    "polyglot_notebook": {
     "kernelName": "csharp"
    }
   },
   "outputs": [],
   "source": [
    "using System;\n",
    "\n",
    "interface IMovable\n",
    "{\n",
    "    void Move(); // ✅ ลบ public ออก\n",
    "}\n",
    "interface ISpeakable\n",
    "{\n",
    "    void Speak(); // ✅ ลบ public ออก\n",
    "}\n",
    "\n",
    "abstract class Animal : IMovable, ISpeakable\n",
    "{\n",
    "    public abstract void Move(); // ✅ public อยู่ข้างหน้า abstract\n",
    "    public abstract void Speak(); // ✅ ต้องมีเมธอดนี้เพื่อให้ Animal ใช้ ISpeakable ได้\n",
    "}\n",
    "\n",
    "class Dog : Animal\n",
    "{\n",
    "    public override void Move()\n",
    "    {\n",
    "        Console.WriteLine(\"Dog moves by running on the ground\");\n",
    "    }\n",
    "\n",
    "    public override void Speak()\n",
    "    {\n",
    "        Console.WriteLine(\"Dog barks\");\n",
    "    }\n",
    "}\n",
    "\n",
    "class Fish : Animal\n",
    "{\n",
    "    public override void Move()\n",
    "    {\n",
    "        Console.WriteLine(\"Fish moves by swimming in the water\");\n",
    "    }\n",
    "\n",
    "    public override void Speak()\n",
    "    {\n",
    "        Console.WriteLine(\"Fish does not make sound\");\n",
    "    }\n",
    "}\n",
    "\n",
    "class Bird : Animal\n",
    "{\n",
    "    public override void Move()\n",
    "    {\n",
    "        Console.WriteLine(\"Bird moves by flying in the air\");\n",
    "    }\n",
    "\n",
    "    public override void Speak()\n",
    "    {\n",
    "        Console.WriteLine(\"Bird chirps\");\n",
    "    }\n",
    "}\n",
    "\n",
    "class Program\n",
    "{\n",
    "    static void Main()\n",
    "    {\n",
    "        Animal[] animals = new Animal[3];\n",
    "        animals[0] = new Dog();\n",
    "        animals[1] = new Bird();\n",
    "        animals[2] = new Fish();\n",
    "\n",
    "        foreach (var animal in animals)\n",
    "        {\n",
    "            animal.Move();\n",
    "            animal.Speak(); // ✅ เรียก Speak() ได้แล้ว\n",
    "        }\n",
    "    }\n",
    "}\n"
   ]
  },
  {
   "cell_type": "markdown",
   "metadata": {},
   "source": [
    "4.บันทึกผลที่ได้จากการรันคำสั่งในข้อ 3"
   ]
  },
  {
   "cell_type": "markdown",
   "metadata": {},
   "source": [
    "ไม่สามารถบิ้วได้ โค้ดเออเร่อ"
   ]
  },
  {
   "cell_type": "markdown",
   "metadata": {},
   "source": [
    "5.Run project โดยการใช้คำสั่ง\n",
    "\n",
    "```cmd\n",
    "dotnet run --project Lab17_Ex04\n",
    "```"
   ]
  },
  {
   "cell_type": "markdown",
   "metadata": {},
   "source": [
    "6.บันทึกผลที่ได้จากการรันคำสั่งในข้อ 5"
   ]
  },
  {
   "cell_type": "markdown",
   "metadata": {},
   "source": [
    "Dog moves by running on the ground\n",
    "Dog barks\n",
    "Bird moves by flying in the air\n",
    "Bird chirps\n",
    "Fish moves by swimming in the water\n",
    "Fish does not make sound"
   ]
  },
  {
   "cell_type": "markdown",
   "metadata": {},
   "source": [
    "7.อธิบายสิ่งที่พบในการทดลอง"
   ]
  },
  {
   "cell_type": "markdown",
   "metadata": {},
   "source": [
    "1. Implement เมธอด Speak() ใน Animal หรือทำให้เป็น abstract\n",
    "วิธีที่ดีที่สุด คือเพิ่ม Speak() ใน Animal ให้เป็น abstract\n",
    "2. Override Speak() ในคลาสลูก\n",
    "ทุกคลาสที่สืบทอดจาก Animal ต้อง override เมธอด Speak()\n"
   ]
  }
 ],
 "metadata": {
  "kernelspec": {
   "display_name": ".NET (C#)",
   "language": "C#",
   "name": ".net-csharp"
  },
  "polyglot_notebook": {
   "kernelInfo": {
    "defaultKernelName": "csharp",
    "items": [
     {
      "aliases": [],
      "languageName": "csharp",
      "name": "csharp"
     }
    ]
   }
  }
 },
 "nbformat": 4,
 "nbformat_minor": 2
}
